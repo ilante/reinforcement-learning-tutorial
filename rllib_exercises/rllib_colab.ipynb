{
 "cells": [
  {
   "cell_type": "markdown",
   "metadata": {
    "colab_type": "text",
    "id": "7ghlHAH0Nlhi"
   },
   "source": [
    "# Install Dependencies\n",
    "\n",
    "If you are running on Google Colab, you need to install the necessary dependencies before beginning the exercise."
   ]
  },
  {
   "cell_type": "code",
   "execution_count": 11,
   "metadata": {
    "colab": {
     "base_uri": "https://localhost:8080/",
     "height": 459
    },
    "colab_type": "code",
    "id": "tHNPcnXPNlhj",
    "outputId": "e2e3632d-394b-403d-bfbf-ab3c014d564d"
   },
   "outputs": [],
   "source": [
    "# print('NOTE: Intentionally crashing session to use the newly installed library.\\n')\n",
    "\n",
    "# !pip uninstall -y pyarrow\n",
    "# !pip install ray[debug]==0.7.5\n",
    "# !pip install bs4\n",
    "# !pip install gym\n",
    "\n",
    "# !git clone https://github.com/ray-project/tutorial || true\n",
    "# from tutorial.rllib_exercises import test_exercises\n",
    "\n",
    "# print(\"Successfully installed all the dependencies!\")\n",
    "\n",
    "# # A hack to force the runtime to restart, needed to include the above dependencies.\n",
    "# import os\n",
    "# os._exit(0)"
   ]
  },
  {
   "cell_type": "markdown",
   "metadata": {},
   "source": [
    "&rarr restarting the kernel is something like `source"
   ]
  },
  {
   "cell_type": "code",
   "execution_count": 1,
   "metadata": {},
   "outputs": [
    {
     "data": {
      "text/plain": [
       "'/opt/homebrew/opt/python@3.10/bin/python3.10'"
      ]
     },
     "execution_count": 1,
     "metadata": {},
     "output_type": "execute_result"
    }
   ],
   "source": [
    "import sys\n",
    "sys.executable"
   ]
  },
  {
   "cell_type": "markdown",
   "metadata": {
    "colab_type": "text",
    "hideCode": false,
    "hidePrompt": false,
    "id": "bAptEafKNlhm"
   },
   "source": [
    "# RL Exercise - Markov Decision Processes\n",
    "\n",
    "**GOAL:** The goal of the exercise is to introduce the Markov Decision Process abstraction and to show how to use Markov Decision Processes in Python.\n",
    "\n",
    "**The key abstraction in reinforcement learning is the Markov decision process (MDP).** An MDP models sequential interactions with an external environment. It consists of the following:\n",
    "- a **state space**\n",
    "- a set of **actions**\n",
    "- a **transition function** which describes the probability of being in a state $s'$ at time $t+1$ given that the MDP was in state $s$ at time $t$ and action $a$ was taken\n",
    "- a **reward function**, which determines the reward received at time $t$\n",
    "- a **discount factor** $\\gamma$\n",
    "\n",
    "More details are available [here](https://en.wikipedia.org/wiki/Markov_decision_process).\n",
    "\n",
    "**NOTE:** Reinforcement learning algorithms are often applied to problems that don't strictly fit into the MDP framework. In particular, situations in which the state of the environment is not fully observed lead to violations of the MDP assumption. Nevertheless, RL algorithms can be applied anyway.\n",
    "\n",
    "## Policies\n",
    "\n",
    "A **policy** is a function that takes in a **state** and returns an **action**. A policy may be stochastic (i.e., it may sample from a probability distribution) or it can be deterministic.\n",
    "\n",
    "The **goal of reinforcement learning** is to learn a **policy** for maximizing the cumulative reward in an MDP. That is, we wish to find a policy $\\pi$ which solves the following optimization problem\n",
    "\n",
    "\\begin{equation}\n",
    "\\arg\\max_{\\pi} \\sum_{t=1}^T \\gamma^t R_t(\\pi),\n",
    "\\end{equation}\n",
    "\n",
    "where $T$ is the number of steps taken in the MDP (this is a random variable and may depend on $\\pi$) and $R_t$ is the reward received at time $t$ (also a random variable which depends on $\\pi$).\n",
    "\n",
    "A number of algorithms are available for solving reinforcement learning problems. Several of the most widely known are [value iteration](https://en.wikipedia.org/wiki/Markov_decision_process#Value_iteration), [policy iteration](https://en.wikipedia.org/wiki/Markov_decision_process#Policy_iteration), and [Q learning](https://en.wikipedia.org/wiki/Q-learning).\n",
    "\n",
    "## RL in Python\n",
    "\n",
    "The `gym` Python module provides MDP interfaces to a variety of simulators. For example, the CartPole environment interfaces with a simple simulator which simulates the physics of balancing a pole on a cart. The CartPole problem is described at https://gym.openai.com/envs/CartPole-v0. This example fits into the MDP framework as follows.\n",
    "- The **state** consists of the position and velocity of the cart as well as the angle and angular velocity of the pole that is balancing on the cart.\n",
    "- The **actions** are to decrease or increase the cart's velocity by one unit.\n",
    "- The **transition function** is deterministic and is determined by simulating physical laws.\n",
    "- The **reward function** is a constant 1 as long as the pole is upright, and 0 once the pole has fallen over. Therefore, maximizing the reward means balancing the pole for as long as possible.\n",
    "- The **discount factor** in this case can be taken to be 1.\n",
    "\n",
    "More information about the `gym` Python module is available at https://gym.openai.com/."
   ]
  },
  {
   "cell_type": "code",
   "execution_count": 2,
   "metadata": {
    "colab": {},
    "colab_type": "code",
    "id": "a9Kwo5ZfNlhn"
   },
   "outputs": [],
   "source": [
    "from __future__ import absolute_import\n",
    "from __future__ import division\n",
    "from __future__ import print_function\n",
    "\n",
    "import gym\n",
    "import numpy as np"
   ]
  },
  {
   "cell_type": "code",
   "execution_count": 14,
   "metadata": {},
   "outputs": [
    {
     "name": "stdout",
     "output_type": "stream",
     "text": [
      "Requirement already satisfied: modin in /opt/homebrew/lib/python3.10/site-packages (0.23.1)\n",
      "Requirement already satisfied: psutil>=5.8.0 in /Users/immanuelaantigonenglaender/Library/Python/3.10/lib/python/site-packages (from modin) (5.9.4)\n",
      "Requirement already satisfied: packaging>=21.0 in /Users/immanuelaantigonenglaender/Library/Python/3.10/lib/python/site-packages (from modin) (23.0)\n",
      "Requirement already satisfied: pandas<2.1,>=2 in /opt/homebrew/lib/python3.10/site-packages (from modin) (2.0.3)\n",
      "Requirement already satisfied: fsspec>=2021.07.0 in /opt/homebrew/lib/python3.10/site-packages (from modin) (2023.6.0)\n",
      "Requirement already satisfied: numpy>=1.20.3 in /opt/homebrew/lib/python3.10/site-packages (from modin) (1.23.4)\n",
      "Requirement already satisfied: python-dateutil>=2.8.2 in /opt/homebrew/lib/python3.10/site-packages (from pandas<2.1,>=2->modin) (2.8.2)\n",
      "Requirement already satisfied: tzdata>=2022.1 in /opt/homebrew/lib/python3.10/site-packages (from pandas<2.1,>=2->modin) (2023.3)\n",
      "Requirement already satisfied: pytz>=2020.1 in /opt/homebrew/lib/python3.10/site-packages (from pandas<2.1,>=2->modin) (2022.6)\n",
      "Requirement already satisfied: six>=1.5 in /opt/homebrew/lib/python3.10/site-packages (from python-dateutil>=2.8.2->pandas<2.1,>=2->modin) (1.16.0)\n",
      "\n",
      "\u001b[1m[\u001b[0m\u001b[34;49mnotice\u001b[0m\u001b[1;39;49m]\u001b[0m\u001b[39;49m A new release of pip is available: \u001b[0m\u001b[31;49m23.0.1\u001b[0m\u001b[39;49m -> \u001b[0m\u001b[32;49m23.2.1\u001b[0m\n",
      "\u001b[1m[\u001b[0m\u001b[34;49mnotice\u001b[0m\u001b[1;39;49m]\u001b[0m\u001b[39;49m To update, run: \u001b[0m\u001b[32;49mpython3.10 -m pip install --upgrade pip\u001b[0m\n",
      "Note: you may need to restart the kernel to use updated packages.\n",
      "Requirement already satisfied: tensorflow in /opt/homebrew/lib/python3.10/site-packages (2.13.0)\n",
      "Requirement already satisfied: tensorflow-macos==2.13.0 in /opt/homebrew/lib/python3.10/site-packages (from tensorflow) (2.13.0)\n",
      "Requirement already satisfied: absl-py>=1.0.0 in /opt/homebrew/lib/python3.10/site-packages (from tensorflow-macos==2.13.0->tensorflow) (1.4.0)\n",
      "Requirement already satisfied: flatbuffers>=23.1.21 in /opt/homebrew/lib/python3.10/site-packages (from tensorflow-macos==2.13.0->tensorflow) (23.5.26)\n",
      "Requirement already satisfied: opt-einsum>=2.3.2 in /opt/homebrew/lib/python3.10/site-packages (from tensorflow-macos==2.13.0->tensorflow) (3.3.0)\n",
      "Requirement already satisfied: numpy<=1.24.3,>=1.22 in /opt/homebrew/lib/python3.10/site-packages (from tensorflow-macos==2.13.0->tensorflow) (1.23.4)\n",
      "Requirement already satisfied: libclang>=13.0.0 in /opt/homebrew/lib/python3.10/site-packages (from tensorflow-macos==2.13.0->tensorflow) (16.0.6)\n",
      "Requirement already satisfied: gast<=0.4.0,>=0.2.1 in /opt/homebrew/lib/python3.10/site-packages (from tensorflow-macos==2.13.0->tensorflow) (0.4.0)\n",
      "Requirement already satisfied: google-pasta>=0.1.1 in /opt/homebrew/lib/python3.10/site-packages (from tensorflow-macos==2.13.0->tensorflow) (0.2.0)\n",
      "Requirement already satisfied: tensorboard<2.14,>=2.13 in /opt/homebrew/lib/python3.10/site-packages (from tensorflow-macos==2.13.0->tensorflow) (2.13.0)\n",
      "Requirement already satisfied: packaging in /Users/immanuelaantigonenglaender/Library/Python/3.10/lib/python/site-packages (from tensorflow-macos==2.13.0->tensorflow) (23.0)\n",
      "Requirement already satisfied: six>=1.12.0 in /opt/homebrew/lib/python3.10/site-packages (from tensorflow-macos==2.13.0->tensorflow) (1.16.0)\n",
      "Requirement already satisfied: protobuf!=4.21.0,!=4.21.1,!=4.21.2,!=4.21.3,!=4.21.4,!=4.21.5,<5.0.0dev,>=3.20.3 in /opt/homebrew/lib/python3.10/site-packages (from tensorflow-macos==2.13.0->tensorflow) (4.24.1)\n",
      "Requirement already satisfied: keras<2.14,>=2.13.1 in /opt/homebrew/lib/python3.10/site-packages (from tensorflow-macos==2.13.0->tensorflow) (2.13.1)\n",
      "Requirement already satisfied: wrapt>=1.11.0 in /opt/homebrew/lib/python3.10/site-packages (from tensorflow-macos==2.13.0->tensorflow) (1.15.0)\n",
      "Requirement already satisfied: astunparse>=1.6.0 in /opt/homebrew/lib/python3.10/site-packages (from tensorflow-macos==2.13.0->tensorflow) (1.6.3)\n",
      "Requirement already satisfied: grpcio<2.0,>=1.24.3 in /opt/homebrew/lib/python3.10/site-packages (from tensorflow-macos==2.13.0->tensorflow) (1.57.0)\n",
      "Requirement already satisfied: typing-extensions<4.6.0,>=3.6.6 in /opt/homebrew/lib/python3.10/site-packages (from tensorflow-macos==2.13.0->tensorflow) (4.5.0)\n",
      "Requirement already satisfied: setuptools in /opt/homebrew/lib/python3.10/site-packages (from tensorflow-macos==2.13.0->tensorflow) (67.6.1)\n",
      "Requirement already satisfied: h5py>=2.9.0 in /opt/homebrew/lib/python3.10/site-packages (from tensorflow-macos==2.13.0->tensorflow) (3.9.0)\n",
      "Requirement already satisfied: tensorflow-estimator<2.14,>=2.13.0 in /opt/homebrew/lib/python3.10/site-packages (from tensorflow-macos==2.13.0->tensorflow) (2.13.0)\n",
      "Requirement already satisfied: termcolor>=1.1.0 in /opt/homebrew/lib/python3.10/site-packages (from tensorflow-macos==2.13.0->tensorflow) (2.3.0)\n",
      "Requirement already satisfied: wheel<1.0,>=0.23.0 in /opt/homebrew/lib/python3.10/site-packages (from astunparse>=1.6.0->tensorflow-macos==2.13.0->tensorflow) (0.40.0)\n",
      "Requirement already satisfied: werkzeug>=1.0.1 in /opt/homebrew/lib/python3.10/site-packages (from tensorboard<2.14,>=2.13->tensorflow-macos==2.13.0->tensorflow) (2.3.7)\n",
      "Requirement already satisfied: google-auth-oauthlib<1.1,>=0.5 in /opt/homebrew/lib/python3.10/site-packages (from tensorboard<2.14,>=2.13->tensorflow-macos==2.13.0->tensorflow) (1.0.0)\n",
      "Requirement already satisfied: markdown>=2.6.8 in /opt/homebrew/lib/python3.10/site-packages (from tensorboard<2.14,>=2.13->tensorflow-macos==2.13.0->tensorflow) (3.4.4)\n",
      "Requirement already satisfied: tensorboard-data-server<0.8.0,>=0.7.0 in /opt/homebrew/lib/python3.10/site-packages (from tensorboard<2.14,>=2.13->tensorflow-macos==2.13.0->tensorflow) (0.7.1)\n",
      "Requirement already satisfied: google-auth<3,>=1.6.3 in /opt/homebrew/lib/python3.10/site-packages (from tensorboard<2.14,>=2.13->tensorflow-macos==2.13.0->tensorflow) (2.22.0)\n",
      "Requirement already satisfied: requests<3,>=2.21.0 in /opt/homebrew/lib/python3.10/site-packages (from tensorboard<2.14,>=2.13->tensorflow-macos==2.13.0->tensorflow) (2.31.0)\n",
      "Requirement already satisfied: urllib3<2.0 in /opt/homebrew/lib/python3.10/site-packages (from google-auth<3,>=1.6.3->tensorboard<2.14,>=2.13->tensorflow-macos==2.13.0->tensorflow) (1.26.16)\n",
      "Requirement already satisfied: cachetools<6.0,>=2.0.0 in /opt/homebrew/lib/python3.10/site-packages (from google-auth<3,>=1.6.3->tensorboard<2.14,>=2.13->tensorflow-macos==2.13.0->tensorflow) (5.3.1)\n",
      "Requirement already satisfied: rsa<5,>=3.1.4 in /opt/homebrew/lib/python3.10/site-packages (from google-auth<3,>=1.6.3->tensorboard<2.14,>=2.13->tensorflow-macos==2.13.0->tensorflow) (4.9)\n",
      "Requirement already satisfied: pyasn1-modules>=0.2.1 in /opt/homebrew/lib/python3.10/site-packages (from google-auth<3,>=1.6.3->tensorboard<2.14,>=2.13->tensorflow-macos==2.13.0->tensorflow) (0.3.0)\n",
      "Requirement already satisfied: requests-oauthlib>=0.7.0 in /opt/homebrew/lib/python3.10/site-packages (from google-auth-oauthlib<1.1,>=0.5->tensorboard<2.14,>=2.13->tensorflow-macos==2.13.0->tensorflow) (1.3.1)\n",
      "Requirement already satisfied: charset-normalizer<4,>=2 in /opt/homebrew/lib/python3.10/site-packages (from requests<3,>=2.21.0->tensorboard<2.14,>=2.13->tensorflow-macos==2.13.0->tensorflow) (3.2.0)\n",
      "Requirement already satisfied: certifi>=2017.4.17 in /opt/homebrew/lib/python3.10/site-packages (from requests<3,>=2.21.0->tensorboard<2.14,>=2.13->tensorflow-macos==2.13.0->tensorflow) (2023.7.22)\n",
      "Requirement already satisfied: idna<4,>=2.5 in /Users/immanuelaantigonenglaender/Library/Python/3.10/lib/python/site-packages (from requests<3,>=2.21.0->tensorboard<2.14,>=2.13->tensorflow-macos==2.13.0->tensorflow) (3.4)\n",
      "Requirement already satisfied: MarkupSafe>=2.1.1 in /Users/immanuelaantigonenglaender/Library/Python/3.10/lib/python/site-packages (from werkzeug>=1.0.1->tensorboard<2.14,>=2.13->tensorflow-macos==2.13.0->tensorflow) (2.1.2)\n",
      "Requirement already satisfied: pyasn1<0.6.0,>=0.4.6 in /opt/homebrew/lib/python3.10/site-packages (from pyasn1-modules>=0.2.1->google-auth<3,>=1.6.3->tensorboard<2.14,>=2.13->tensorflow-macos==2.13.0->tensorflow) (0.5.0)\n",
      "Requirement already satisfied: oauthlib>=3.0.0 in /opt/homebrew/lib/python3.10/site-packages (from requests-oauthlib>=0.7.0->google-auth-oauthlib<1.1,>=0.5->tensorboard<2.14,>=2.13->tensorflow-macos==2.13.0->tensorflow) (3.2.2)\n",
      "\n",
      "\u001b[1m[\u001b[0m\u001b[34;49mnotice\u001b[0m\u001b[1;39;49m]\u001b[0m\u001b[39;49m A new release of pip is available: \u001b[0m\u001b[31;49m23.0.1\u001b[0m\u001b[39;49m -> \u001b[0m\u001b[32;49m23.2.1\u001b[0m\n",
      "\u001b[1m[\u001b[0m\u001b[34;49mnotice\u001b[0m\u001b[1;39;49m]\u001b[0m\u001b[39;49m To update, run: \u001b[0m\u001b[32;49mpython3.10 -m pip install --upgrade pip\u001b[0m\n",
      "Note: you may need to restart the kernel to use updated packages.\n",
      "Requirement already satisfied: gym in /opt/homebrew/lib/python3.10/site-packages (0.26.2)\n",
      "Requirement already satisfied: numpy>=1.18.0 in /opt/homebrew/lib/python3.10/site-packages (from gym) (1.23.4)\n",
      "Requirement already satisfied: cloudpickle>=1.2.0 in /opt/homebrew/lib/python3.10/site-packages (from gym) (2.2.1)\n",
      "Requirement already satisfied: gym-notices>=0.0.4 in /opt/homebrew/lib/python3.10/site-packages (from gym) (0.0.8)\n",
      "\n",
      "\u001b[1m[\u001b[0m\u001b[34;49mnotice\u001b[0m\u001b[1;39;49m]\u001b[0m\u001b[39;49m A new release of pip is available: \u001b[0m\u001b[31;49m23.0.1\u001b[0m\u001b[39;49m -> \u001b[0m\u001b[32;49m23.2.1\u001b[0m\n",
      "\u001b[1m[\u001b[0m\u001b[34;49mnotice\u001b[0m\u001b[1;39;49m]\u001b[0m\u001b[39;49m To update, run: \u001b[0m\u001b[32;49mpython3.10 -m pip install --upgrade pip\u001b[0m\n",
      "Note: you may need to restart the kernel to use updated packages.\n",
      "Requirement already satisfied: scipy in /opt/homebrew/lib/python3.10/site-packages (1.11.2)\n",
      "Requirement already satisfied: numpy<1.28.0,>=1.21.6 in /opt/homebrew/lib/python3.10/site-packages (from scipy) (1.23.4)\n",
      "\n",
      "\u001b[1m[\u001b[0m\u001b[34;49mnotice\u001b[0m\u001b[1;39;49m]\u001b[0m\u001b[39;49m A new release of pip is available: \u001b[0m\u001b[31;49m23.0.1\u001b[0m\u001b[39;49m -> \u001b[0m\u001b[32;49m23.2.1\u001b[0m\n",
      "\u001b[1m[\u001b[0m\u001b[34;49mnotice\u001b[0m\u001b[1;39;49m]\u001b[0m\u001b[39;49m To update, run: \u001b[0m\u001b[32;49mpython3.10 -m pip install --upgrade pip\u001b[0m\n",
      "Note: you may need to restart the kernel to use updated packages.\n",
      "Requirement already satisfied: opencv-python in /opt/homebrew/lib/python3.10/site-packages (4.8.0.76)\n",
      "Requirement already satisfied: numpy>=1.19.3 in /opt/homebrew/lib/python3.10/site-packages (from opencv-python) (1.23.4)\n",
      "\n",
      "\u001b[1m[\u001b[0m\u001b[34;49mnotice\u001b[0m\u001b[1;39;49m]\u001b[0m\u001b[39;49m A new release of pip is available: \u001b[0m\u001b[31;49m23.0.1\u001b[0m\u001b[39;49m -> \u001b[0m\u001b[32;49m23.2.1\u001b[0m\n",
      "\u001b[1m[\u001b[0m\u001b[34;49mnotice\u001b[0m\u001b[1;39;49m]\u001b[0m\u001b[39;49m To update, run: \u001b[0m\u001b[32;49mpython3.10 -m pip install --upgrade pip\u001b[0m\n",
      "Note: you may need to restart the kernel to use updated packages.\n",
      "Requirement already satisfied: bokeh in /opt/homebrew/lib/python3.10/site-packages (3.2.2)\n",
      "Requirement already satisfied: PyYAML>=3.10 in /Users/immanuelaantigonenglaender/Library/Python/3.10/lib/python/site-packages (from bokeh) (6.0)\n",
      "Requirement already satisfied: contourpy>=1 in /opt/homebrew/lib/python3.10/site-packages (from bokeh) (1.1.0)\n",
      "Requirement already satisfied: pillow>=7.1.0 in /opt/homebrew/lib/python3.10/site-packages (from bokeh) (10.0.0)\n",
      "Requirement already satisfied: xyzservices>=2021.09.1 in /opt/homebrew/lib/python3.10/site-packages (from bokeh) (2023.7.0)\n",
      "Requirement already satisfied: packaging>=16.8 in /Users/immanuelaantigonenglaender/Library/Python/3.10/lib/python/site-packages (from bokeh) (23.0)\n",
      "Requirement already satisfied: Jinja2>=2.9 in /Users/immanuelaantigonenglaender/Library/Python/3.10/lib/python/site-packages (from bokeh) (3.1.2)\n",
      "Requirement already satisfied: pandas>=1.2 in /opt/homebrew/lib/python3.10/site-packages (from bokeh) (2.0.3)\n",
      "Requirement already satisfied: numpy>=1.16 in /opt/homebrew/lib/python3.10/site-packages (from bokeh) (1.23.4)\n",
      "Requirement already satisfied: tornado>=5.1 in /Users/immanuelaantigonenglaender/Library/Python/3.10/lib/python/site-packages (from bokeh) (6.2)\n",
      "Requirement already satisfied: MarkupSafe>=2.0 in /Users/immanuelaantigonenglaender/Library/Python/3.10/lib/python/site-packages (from Jinja2>=2.9->bokeh) (2.1.2)\n",
      "Requirement already satisfied: python-dateutil>=2.8.2 in /opt/homebrew/lib/python3.10/site-packages (from pandas>=1.2->bokeh) (2.8.2)\n",
      "Requirement already satisfied: tzdata>=2022.1 in /opt/homebrew/lib/python3.10/site-packages (from pandas>=1.2->bokeh) (2023.3)\n",
      "Requirement already satisfied: pytz>=2020.1 in /opt/homebrew/lib/python3.10/site-packages (from pandas>=1.2->bokeh) (2022.6)\n",
      "Requirement already satisfied: six>=1.5 in /opt/homebrew/lib/python3.10/site-packages (from python-dateutil>=2.8.2->pandas>=1.2->bokeh) (1.16.0)\n",
      "\n",
      "\u001b[1m[\u001b[0m\u001b[34;49mnotice\u001b[0m\u001b[1;39;49m]\u001b[0m\u001b[39;49m A new release of pip is available: \u001b[0m\u001b[31;49m23.0.1\u001b[0m\u001b[39;49m -> \u001b[0m\u001b[32;49m23.2.1\u001b[0m\n",
      "\u001b[1m[\u001b[0m\u001b[34;49mnotice\u001b[0m\u001b[1;39;49m]\u001b[0m\u001b[39;49m To update, run: \u001b[0m\u001b[32;49mpython3.10 -m pip install --upgrade pip\u001b[0m\n",
      "Note: you may need to restart the kernel to use updated packages.\n",
      "Requirement already satisfied: ipywidgets==6.0.0 in /opt/homebrew/lib/python3.10/site-packages (6.0.0)\n",
      "Requirement already satisfied: traitlets>=4.3.1 in /Users/immanuelaantigonenglaender/Library/Python/3.10/lib/python/site-packages (from ipywidgets==6.0.0) (5.9.0)\n",
      "Requirement already satisfied: ipykernel>=4.5.1 in /Users/immanuelaantigonenglaender/Library/Python/3.10/lib/python/site-packages (from ipywidgets==6.0.0) (6.21.3)\n",
      "Requirement already satisfied: nbformat>=4.2.0 in /Users/immanuelaantigonenglaender/Library/Python/3.10/lib/python/site-packages (from ipywidgets==6.0.0) (5.7.3)\n",
      "Requirement already satisfied: widgetsnbextension~=2.0.0 in /opt/homebrew/lib/python3.10/site-packages (from ipywidgets==6.0.0) (2.0.1)\n",
      "Requirement already satisfied: ipython>=4.0.0 in /Users/immanuelaantigonenglaender/Library/Python/3.10/lib/python/site-packages (from ipywidgets==6.0.0) (8.11.0)\n",
      "Requirement already satisfied: jupyter-core!=5.0.*,>=4.12 in /Users/immanuelaantigonenglaender/Library/Python/3.10/lib/python/site-packages (from ipykernel>=4.5.1->ipywidgets==6.0.0) (5.3.0)\n",
      "Requirement already satisfied: pyzmq>=20 in /Users/immanuelaantigonenglaender/Library/Python/3.10/lib/python/site-packages (from ipykernel>=4.5.1->ipywidgets==6.0.0) (25.0.1)\n",
      "Requirement already satisfied: tornado>=6.1 in /Users/immanuelaantigonenglaender/Library/Python/3.10/lib/python/site-packages (from ipykernel>=4.5.1->ipywidgets==6.0.0) (6.2)\n",
      "Requirement already satisfied: packaging in /Users/immanuelaantigonenglaender/Library/Python/3.10/lib/python/site-packages (from ipykernel>=4.5.1->ipywidgets==6.0.0) (23.0)\n",
      "Requirement already satisfied: jupyter-client>=6.1.12 in /Users/immanuelaantigonenglaender/Library/Python/3.10/lib/python/site-packages (from ipykernel>=4.5.1->ipywidgets==6.0.0) (8.0.3)\n",
      "Requirement already satisfied: psutil in /Users/immanuelaantigonenglaender/Library/Python/3.10/lib/python/site-packages (from ipykernel>=4.5.1->ipywidgets==6.0.0) (5.9.4)\n",
      "Requirement already satisfied: nest-asyncio in /Users/immanuelaantigonenglaender/Library/Python/3.10/lib/python/site-packages (from ipykernel>=4.5.1->ipywidgets==6.0.0) (1.5.6)\n",
      "Requirement already satisfied: debugpy>=1.6.5 in /Users/immanuelaantigonenglaender/Library/Python/3.10/lib/python/site-packages (from ipykernel>=4.5.1->ipywidgets==6.0.0) (1.6.6)\n",
      "Requirement already satisfied: comm>=0.1.1 in /Users/immanuelaantigonenglaender/Library/Python/3.10/lib/python/site-packages (from ipykernel>=4.5.1->ipywidgets==6.0.0) (0.1.2)\n",
      "Requirement already satisfied: matplotlib-inline>=0.1 in /Users/immanuelaantigonenglaender/Library/Python/3.10/lib/python/site-packages (from ipykernel>=4.5.1->ipywidgets==6.0.0) (0.1.6)\n",
      "Requirement already satisfied: appnope in /Users/immanuelaantigonenglaender/Library/Python/3.10/lib/python/site-packages (from ipykernel>=4.5.1->ipywidgets==6.0.0) (0.1.3)\n",
      "Requirement already satisfied: pexpect>4.3 in /Users/immanuelaantigonenglaender/Library/Python/3.10/lib/python/site-packages (from ipython>=4.0.0->ipywidgets==6.0.0) (4.8.0)\n",
      "Requirement already satisfied: jedi>=0.16 in /Users/immanuelaantigonenglaender/Library/Python/3.10/lib/python/site-packages (from ipython>=4.0.0->ipywidgets==6.0.0) (0.18.2)\n",
      "Requirement already satisfied: stack-data in /Users/immanuelaantigonenglaender/Library/Python/3.10/lib/python/site-packages (from ipython>=4.0.0->ipywidgets==6.0.0) (0.6.2)\n",
      "Requirement already satisfied: backcall in /Users/immanuelaantigonenglaender/Library/Python/3.10/lib/python/site-packages (from ipython>=4.0.0->ipywidgets==6.0.0) (0.2.0)\n",
      "Requirement already satisfied: prompt-toolkit!=3.0.37,<3.1.0,>=3.0.30 in /Users/immanuelaantigonenglaender/Library/Python/3.10/lib/python/site-packages (from ipython>=4.0.0->ipywidgets==6.0.0) (3.0.38)\n",
      "Requirement already satisfied: pickleshare in /Users/immanuelaantigonenglaender/Library/Python/3.10/lib/python/site-packages (from ipython>=4.0.0->ipywidgets==6.0.0) (0.7.5)\n",
      "Requirement already satisfied: pygments>=2.4.0 in /Users/immanuelaantigonenglaender/Library/Python/3.10/lib/python/site-packages (from ipython>=4.0.0->ipywidgets==6.0.0) (2.14.0)\n",
      "Requirement already satisfied: decorator in /Users/immanuelaantigonenglaender/Library/Python/3.10/lib/python/site-packages (from ipython>=4.0.0->ipywidgets==6.0.0) (5.1.1)\n",
      "Requirement already satisfied: jsonschema>=2.6 in /Users/immanuelaantigonenglaender/Library/Python/3.10/lib/python/site-packages (from nbformat>=4.2.0->ipywidgets==6.0.0) (4.17.3)\n",
      "Requirement already satisfied: fastjsonschema in /Users/immanuelaantigonenglaender/Library/Python/3.10/lib/python/site-packages (from nbformat>=4.2.0->ipywidgets==6.0.0) (2.16.3)\n",
      "Requirement already satisfied: notebook>=4.4.1 in /Users/immanuelaantigonenglaender/Library/Python/3.10/lib/python/site-packages (from widgetsnbextension~=2.0.0->ipywidgets==6.0.0) (6.5.3)\n",
      "Requirement already satisfied: parso<0.9.0,>=0.8.0 in /Users/immanuelaantigonenglaender/Library/Python/3.10/lib/python/site-packages (from jedi>=0.16->ipython>=4.0.0->ipywidgets==6.0.0) (0.8.3)\n",
      "Requirement already satisfied: pyrsistent!=0.17.0,!=0.17.1,!=0.17.2,>=0.14.0 in /Users/immanuelaantigonenglaender/Library/Python/3.10/lib/python/site-packages (from jsonschema>=2.6->nbformat>=4.2.0->ipywidgets==6.0.0) (0.19.3)\n",
      "Requirement already satisfied: attrs>=17.4.0 in /Users/immanuelaantigonenglaender/Library/Python/3.10/lib/python/site-packages (from jsonschema>=2.6->nbformat>=4.2.0->ipywidgets==6.0.0) (22.2.0)\n",
      "Requirement already satisfied: python-dateutil>=2.8.2 in /opt/homebrew/lib/python3.10/site-packages (from jupyter-client>=6.1.12->ipykernel>=4.5.1->ipywidgets==6.0.0) (2.8.2)\n",
      "Requirement already satisfied: platformdirs>=2.5 in /Users/immanuelaantigonenglaender/Library/Python/3.10/lib/python/site-packages (from jupyter-core!=5.0.*,>=4.12->ipykernel>=4.5.1->ipywidgets==6.0.0) (3.1.1)\n",
      "Requirement already satisfied: Send2Trash>=1.8.0 in /Users/immanuelaantigonenglaender/Library/Python/3.10/lib/python/site-packages (from notebook>=4.4.1->widgetsnbextension~=2.0.0->ipywidgets==6.0.0) (1.8.0)\n",
      "Requirement already satisfied: nbconvert>=5 in /Users/immanuelaantigonenglaender/Library/Python/3.10/lib/python/site-packages (from notebook>=4.4.1->widgetsnbextension~=2.0.0->ipywidgets==6.0.0) (7.2.10)\n",
      "Requirement already satisfied: terminado>=0.8.3 in /Users/immanuelaantigonenglaender/Library/Python/3.10/lib/python/site-packages (from notebook>=4.4.1->widgetsnbextension~=2.0.0->ipywidgets==6.0.0) (0.17.1)\n",
      "Requirement already satisfied: nbclassic>=0.4.7 in /Users/immanuelaantigonenglaender/Library/Python/3.10/lib/python/site-packages (from notebook>=4.4.1->widgetsnbextension~=2.0.0->ipywidgets==6.0.0) (0.5.3)\n",
      "Requirement already satisfied: jinja2 in /Users/immanuelaantigonenglaender/Library/Python/3.10/lib/python/site-packages (from notebook>=4.4.1->widgetsnbextension~=2.0.0->ipywidgets==6.0.0) (3.1.2)\n",
      "Requirement already satisfied: argon2-cffi in /Users/immanuelaantigonenglaender/Library/Python/3.10/lib/python/site-packages (from notebook>=4.4.1->widgetsnbextension~=2.0.0->ipywidgets==6.0.0) (21.3.0)\n",
      "Requirement already satisfied: prometheus-client in /Users/immanuelaantigonenglaender/Library/Python/3.10/lib/python/site-packages (from notebook>=4.4.1->widgetsnbextension~=2.0.0->ipywidgets==6.0.0) (0.16.0)\n",
      "Requirement already satisfied: ipython-genutils in /Users/immanuelaantigonenglaender/Library/Python/3.10/lib/python/site-packages (from notebook>=4.4.1->widgetsnbextension~=2.0.0->ipywidgets==6.0.0) (0.2.0)\n",
      "Requirement already satisfied: ptyprocess>=0.5 in /Users/immanuelaantigonenglaender/Library/Python/3.10/lib/python/site-packages (from pexpect>4.3->ipython>=4.0.0->ipywidgets==6.0.0) (0.7.0)\n",
      "Requirement already satisfied: wcwidth in /Users/immanuelaantigonenglaender/Library/Python/3.10/lib/python/site-packages (from prompt-toolkit!=3.0.37,<3.1.0,>=3.0.30->ipython>=4.0.0->ipywidgets==6.0.0) (0.2.6)\n",
      "Requirement already satisfied: pure-eval in /Users/immanuelaantigonenglaender/Library/Python/3.10/lib/python/site-packages (from stack-data->ipython>=4.0.0->ipywidgets==6.0.0) (0.2.2)\n",
      "Requirement already satisfied: asttokens>=2.1.0 in /Users/immanuelaantigonenglaender/Library/Python/3.10/lib/python/site-packages (from stack-data->ipython>=4.0.0->ipywidgets==6.0.0) (2.2.1)\n",
      "Requirement already satisfied: executing>=1.2.0 in /Users/immanuelaantigonenglaender/Library/Python/3.10/lib/python/site-packages (from stack-data->ipython>=4.0.0->ipywidgets==6.0.0) (1.2.0)\n",
      "Requirement already satisfied: six in /opt/homebrew/lib/python3.10/site-packages (from asttokens>=2.1.0->stack-data->ipython>=4.0.0->ipywidgets==6.0.0) (1.16.0)\n",
      "Requirement already satisfied: notebook-shim>=0.1.0 in /Users/immanuelaantigonenglaender/Library/Python/3.10/lib/python/site-packages (from nbclassic>=0.4.7->notebook>=4.4.1->widgetsnbextension~=2.0.0->ipywidgets==6.0.0) (0.2.2)\n",
      "Requirement already satisfied: jupyter-server>=1.8 in /Users/immanuelaantigonenglaender/Library/Python/3.10/lib/python/site-packages (from nbclassic>=0.4.7->notebook>=4.4.1->widgetsnbextension~=2.0.0->ipywidgets==6.0.0) (2.5.0)\n",
      "Requirement already satisfied: jupyterlab-pygments in /Users/immanuelaantigonenglaender/Library/Python/3.10/lib/python/site-packages (from nbconvert>=5->notebook>=4.4.1->widgetsnbextension~=2.0.0->ipywidgets==6.0.0) (0.2.2)\n",
      "Requirement already satisfied: bleach in /Users/immanuelaantigonenglaender/Library/Python/3.10/lib/python/site-packages (from nbconvert>=5->notebook>=4.4.1->widgetsnbextension~=2.0.0->ipywidgets==6.0.0) (6.0.0)\n",
      "Requirement already satisfied: markupsafe>=2.0 in /Users/immanuelaantigonenglaender/Library/Python/3.10/lib/python/site-packages (from nbconvert>=5->notebook>=4.4.1->widgetsnbextension~=2.0.0->ipywidgets==6.0.0) (2.1.2)\n",
      "Requirement already satisfied: defusedxml in /Users/immanuelaantigonenglaender/Library/Python/3.10/lib/python/site-packages (from nbconvert>=5->notebook>=4.4.1->widgetsnbextension~=2.0.0->ipywidgets==6.0.0) (0.7.1)\n",
      "Requirement already satisfied: nbclient>=0.5.0 in /Users/immanuelaantigonenglaender/Library/Python/3.10/lib/python/site-packages (from nbconvert>=5->notebook>=4.4.1->widgetsnbextension~=2.0.0->ipywidgets==6.0.0) (0.7.2)\n",
      "Requirement already satisfied: tinycss2 in /Users/immanuelaantigonenglaender/Library/Python/3.10/lib/python/site-packages (from nbconvert>=5->notebook>=4.4.1->widgetsnbextension~=2.0.0->ipywidgets==6.0.0) (1.2.1)\n",
      "Requirement already satisfied: pandocfilters>=1.4.1 in /Users/immanuelaantigonenglaender/Library/Python/3.10/lib/python/site-packages (from nbconvert>=5->notebook>=4.4.1->widgetsnbextension~=2.0.0->ipywidgets==6.0.0) (1.5.0)\n",
      "Requirement already satisfied: beautifulsoup4 in /Users/immanuelaantigonenglaender/Library/Python/3.10/lib/python/site-packages (from nbconvert>=5->notebook>=4.4.1->widgetsnbextension~=2.0.0->ipywidgets==6.0.0) (4.11.2)\n",
      "Requirement already satisfied: mistune<3,>=2.0.3 in /Users/immanuelaantigonenglaender/Library/Python/3.10/lib/python/site-packages (from nbconvert>=5->notebook>=4.4.1->widgetsnbextension~=2.0.0->ipywidgets==6.0.0) (2.0.5)\n",
      "Requirement already satisfied: argon2-cffi-bindings in /Users/immanuelaantigonenglaender/Library/Python/3.10/lib/python/site-packages (from argon2-cffi->notebook>=4.4.1->widgetsnbextension~=2.0.0->ipywidgets==6.0.0) (21.2.0)\n",
      "Requirement already satisfied: anyio>=3.1.0 in /Users/immanuelaantigonenglaender/Library/Python/3.10/lib/python/site-packages (from jupyter-server>=1.8->nbclassic>=0.4.7->notebook>=4.4.1->widgetsnbextension~=2.0.0->ipywidgets==6.0.0) (3.6.2)\n",
      "Requirement already satisfied: jupyter-events>=0.4.0 in /Users/immanuelaantigonenglaender/Library/Python/3.10/lib/python/site-packages (from jupyter-server>=1.8->nbclassic>=0.4.7->notebook>=4.4.1->widgetsnbextension~=2.0.0->ipywidgets==6.0.0) (0.6.3)\n",
      "Requirement already satisfied: websocket-client in /Users/immanuelaantigonenglaender/Library/Python/3.10/lib/python/site-packages (from jupyter-server>=1.8->nbclassic>=0.4.7->notebook>=4.4.1->widgetsnbextension~=2.0.0->ipywidgets==6.0.0) (1.5.1)\n",
      "Requirement already satisfied: jupyter-server-terminals in /Users/immanuelaantigonenglaender/Library/Python/3.10/lib/python/site-packages (from jupyter-server>=1.8->nbclassic>=0.4.7->notebook>=4.4.1->widgetsnbextension~=2.0.0->ipywidgets==6.0.0) (0.4.4)\n",
      "Requirement already satisfied: cffi>=1.0.1 in /Users/immanuelaantigonenglaender/Library/Python/3.10/lib/python/site-packages (from argon2-cffi-bindings->argon2-cffi->notebook>=4.4.1->widgetsnbextension~=2.0.0->ipywidgets==6.0.0) (1.15.1)\n",
      "Requirement already satisfied: soupsieve>1.2 in /Users/immanuelaantigonenglaender/Library/Python/3.10/lib/python/site-packages (from beautifulsoup4->nbconvert>=5->notebook>=4.4.1->widgetsnbextension~=2.0.0->ipywidgets==6.0.0) (2.4)\n",
      "Requirement already satisfied: webencodings in /Users/immanuelaantigonenglaender/Library/Python/3.10/lib/python/site-packages (from bleach->nbconvert>=5->notebook>=4.4.1->widgetsnbextension~=2.0.0->ipywidgets==6.0.0) (0.5.1)\n",
      "Requirement already satisfied: sniffio>=1.1 in /Users/immanuelaantigonenglaender/Library/Python/3.10/lib/python/site-packages (from anyio>=3.1.0->jupyter-server>=1.8->nbclassic>=0.4.7->notebook>=4.4.1->widgetsnbextension~=2.0.0->ipywidgets==6.0.0) (1.3.0)\n",
      "Requirement already satisfied: idna>=2.8 in /Users/immanuelaantigonenglaender/Library/Python/3.10/lib/python/site-packages (from anyio>=3.1.0->jupyter-server>=1.8->nbclassic>=0.4.7->notebook>=4.4.1->widgetsnbextension~=2.0.0->ipywidgets==6.0.0) (3.4)\n",
      "Requirement already satisfied: pycparser in /Users/immanuelaantigonenglaender/Library/Python/3.10/lib/python/site-packages (from cffi>=1.0.1->argon2-cffi-bindings->argon2-cffi->notebook>=4.4.1->widgetsnbextension~=2.0.0->ipywidgets==6.0.0) (2.21)\n",
      "Requirement already satisfied: rfc3339-validator in /Users/immanuelaantigonenglaender/Library/Python/3.10/lib/python/site-packages (from jupyter-events>=0.4.0->jupyter-server>=1.8->nbclassic>=0.4.7->notebook>=4.4.1->widgetsnbextension~=2.0.0->ipywidgets==6.0.0) (0.1.4)\n",
      "Requirement already satisfied: python-json-logger>=2.0.4 in /Users/immanuelaantigonenglaender/Library/Python/3.10/lib/python/site-packages (from jupyter-events>=0.4.0->jupyter-server>=1.8->nbclassic>=0.4.7->notebook>=4.4.1->widgetsnbextension~=2.0.0->ipywidgets==6.0.0) (2.0.7)\n",
      "Requirement already satisfied: pyyaml>=5.3 in /Users/immanuelaantigonenglaender/Library/Python/3.10/lib/python/site-packages (from jupyter-events>=0.4.0->jupyter-server>=1.8->nbclassic>=0.4.7->notebook>=4.4.1->widgetsnbextension~=2.0.0->ipywidgets==6.0.0) (6.0)\n",
      "Requirement already satisfied: rfc3986-validator>=0.1.1 in /Users/immanuelaantigonenglaender/Library/Python/3.10/lib/python/site-packages (from jupyter-events>=0.4.0->jupyter-server>=1.8->nbclassic>=0.4.7->notebook>=4.4.1->widgetsnbextension~=2.0.0->ipywidgets==6.0.0) (0.1.1)\n",
      "Requirement already satisfied: webcolors>=1.11 in /Users/immanuelaantigonenglaender/Library/Python/3.10/lib/python/site-packages (from jsonschema>=2.6->nbformat>=4.2.0->ipywidgets==6.0.0) (1.12)\n",
      "Requirement already satisfied: jsonpointer>1.13 in /Users/immanuelaantigonenglaender/Library/Python/3.10/lib/python/site-packages (from jsonschema>=2.6->nbformat>=4.2.0->ipywidgets==6.0.0) (2.3)\n",
      "Requirement already satisfied: fqdn in /Users/immanuelaantigonenglaender/Library/Python/3.10/lib/python/site-packages (from jsonschema>=2.6->nbformat>=4.2.0->ipywidgets==6.0.0) (1.5.1)\n",
      "Requirement already satisfied: uri-template in /Users/immanuelaantigonenglaender/Library/Python/3.10/lib/python/site-packages (from jsonschema>=2.6->nbformat>=4.2.0->ipywidgets==6.0.0) (1.2.0)\n",
      "Requirement already satisfied: isoduration in /Users/immanuelaantigonenglaender/Library/Python/3.10/lib/python/site-packages (from jsonschema>=2.6->nbformat>=4.2.0->ipywidgets==6.0.0) (20.11.0)\n",
      "Requirement already satisfied: arrow>=0.15.0 in /Users/immanuelaantigonenglaender/Library/Python/3.10/lib/python/site-packages (from isoduration->jsonschema>=2.6->nbformat>=4.2.0->ipywidgets==6.0.0) (1.2.3)\n",
      "\n",
      "\u001b[1m[\u001b[0m\u001b[34;49mnotice\u001b[0m\u001b[1;39;49m]\u001b[0m\u001b[39;49m A new release of pip is available: \u001b[0m\u001b[31;49m23.0.1\u001b[0m\u001b[39;49m -> \u001b[0m\u001b[32;49m23.2.1\u001b[0m\n",
      "\u001b[1m[\u001b[0m\u001b[34;49mnotice\u001b[0m\u001b[1;39;49m]\u001b[0m\u001b[39;49m To update, run: \u001b[0m\u001b[32;49mpython3.10 -m pip install --upgrade pip\u001b[0m\n",
      "Note: you may need to restart the kernel to use updated packages.\n",
      "Requirement already satisfied: keras in /opt/homebrew/lib/python3.10/site-packages (2.13.1)\n",
      "\n",
      "\u001b[1m[\u001b[0m\u001b[34;49mnotice\u001b[0m\u001b[1;39;49m]\u001b[0m\u001b[39;49m A new release of pip is available: \u001b[0m\u001b[31;49m23.0.1\u001b[0m\u001b[39;49m -> \u001b[0m\u001b[32;49m23.2.1\u001b[0m\n",
      "\u001b[1m[\u001b[0m\u001b[34;49mnotice\u001b[0m\u001b[1;39;49m]\u001b[0m\u001b[39;49m To update, run: \u001b[0m\u001b[32;49mpython3.10 -m pip install --upgrade pip\u001b[0m\n",
      "Note: you may need to restart the kernel to use updated packages.\n"
     ]
    }
   ],
   "source": [
    "%pip install modin\n",
    "%pip install tensorflow\n",
    "%pip install gym\n",
    "%pip install scipy\n",
    "%pip install opencv-python\n",
    "%pip install bokeh\n",
    "%pip install ipywidgets==6.0.0\n",
    "%pip install keras"
   ]
  },
  {
   "cell_type": "markdown",
   "metadata": {
    "colab_type": "text",
    "id": "WPpofaxQNlhp"
   },
   "source": [
    "The code below illustrates how to create and manipulate MDPs in Python. An MDP can be created by calling `gym.make`. Gym environments are identified by names like `CartPole-v0`. A **catalog of built-in environments** can be found at https://gym.openai.com/envs."
   ]
  },
  {
   "cell_type": "code",
   "execution_count": 3,
   "metadata": {
    "colab": {},
    "colab_type": "code",
    "hideCode": false,
    "hidePrompt": false,
    "id": "6DZ68SG9Nlhp"
   },
   "outputs": [
    {
     "name": "stdout",
     "output_type": "stream",
     "text": [
      "Created env: <TimeLimit<OrderEnforcing<PassiveEnvChecker<CartPoleEnv<CartPole-v0>>>>>\n"
     ]
    },
    {
     "name": "stderr",
     "output_type": "stream",
     "text": [
      "/opt/homebrew/lib/python3.10/site-packages/gym/envs/registration.py:555: UserWarning: \u001b[33mWARN: The environment CartPole-v0 is out of date. You should consider upgrading to version `v1`.\u001b[0m\n",
      "  logger.warn(\n"
     ]
    }
   ],
   "source": [
    "env_name = 'CartPole-v0' # 'CartPole-v0' ist just a mapping to the preinstalled openai gym environments\n",
    "env = gym.make(env_name) # making the environment\n",
    "print('Created env:', env) "
   ]
  },
  {
   "cell_type": "markdown",
   "metadata": {
    "colab_type": "text",
    "id": "Xn5PqgDzNlhr"
   },
   "source": [
    "Reset the state of the MDP (markovian desicion process) by calling `env.reset()`. This call returns the initial state of the MDP.\n",
    "There was 4 key components to any envoronment: \n",
    "\n",
    "1. Agent\n",
    "2. Action\n",
    "3. Environment\n",
    "4. Observations plus the rewards\n",
    "\n",
    "By running `env.reset()` we'll get our initial set of observations of the environment\n",
    "\n",
    "Later we will pass the output of `state` (the observations) to our reinforcement agent, for her to determine the best type of action to enable us to maximize the reward."
   ]
  },
  {
   "cell_type": "code",
   "execution_count": 4,
   "metadata": {
    "colab": {},
    "colab_type": "code",
    "hideCode": false,
    "hidePrompt": false,
    "id": "zRA58dOFNlhs"
   },
   "outputs": [
    {
     "name": "stdout",
     "output_type": "stream",
     "text": [
      "The starting state is: (array([ 0.04027569,  0.01587904, -0.01383139, -0.03033219], dtype=float32), {})\n"
     ]
    }
   ],
   "source": [
    "state = env.reset()\n",
    "print('The starting state is:', state)"
   ]
  },
  {
   "cell_type": "markdown",
   "metadata": {},
   "source": [
    "### Observation Space\n",
    "\n",
    "The observation is a `ndarray` with shape `(4,)` with the values corresponding to the following positions and velocities:\n",
    "\n",
    "| Num | Observation           | Min                 | Max               |\n",
    "|-----|-----------------------|---------------------|-------------------|\n",
    "| 0   | Cart Position         | -4.8                | 4.8               |\n",
    "| 1   | Cart Velocity         | -Inf                | Inf               |\n",
    "| 2   | Pole Angle            | ~ -0.418 rad (-24°) | ~ 0.418 rad (24°) |\n",
    "| 3   | Pole Angular Velocity | -Inf                | Inf               |"
   ]
  },
  {
   "cell_type": "code",
   "execution_count": 6,
   "metadata": {},
   "outputs": [
    {
     "data": {
      "text/plain": [
       "Box([-4.8000002e+00 -3.4028235e+38 -4.1887903e-01 -3.4028235e+38], [4.8000002e+00 3.4028235e+38 4.1887903e-01 3.4028235e+38], (4,), float32)"
      ]
     },
     "execution_count": 6,
     "metadata": {},
     "output_type": "execute_result"
    }
   ],
   "source": [
    "env.observation_space"
   ]
  },
  {
   "cell_type": "code",
   "execution_count": 10,
   "metadata": {},
   "outputs": [
    {
     "name": "stdout",
     "output_type": "stream",
     "text": [
      "Box([-4.8000002e+00 -3.4028235e+38 -4.1887903e-01 -3.4028235e+38], [4.8000002e+00 3.4028235e+38 4.1887903e-01 3.4028235e+38], (4,), float32)\n"
     ]
    }
   ],
   "source": [
    "sample_space1 = env.observation_space.sample()\n",
    "print(sample_space1)"
   ]
  },
  {
   "cell_type": "code",
   "execution_count": 8,
   "metadata": {},
   "outputs": [
    {
     "name": "stdout",
     "output_type": "stream",
     "text": [
      "\u001b[0;31mDocstring:\u001b[0m\n",
      "print(value, ..., sep=' ', end='\\n', file=sys.stdout, flush=False)\n",
      "\n",
      "Prints the values to a stream, or to sys.stdout by default.\n",
      "Optional keyword arguments:\n",
      "file:  a file-like object (stream); defaults to the current sys.stdout.\n",
      "sep:   string inserted between values, default a space.\n",
      "end:   string appended after the last value, default a newline.\n",
      "flush: whether to forcibly flush the stream.\n",
      "\u001b[0;31mType:\u001b[0m      builtin_function_or_method"
     ]
    }
   ],
   "source": [
    "print??"
   ]
  },
  {
   "cell_type": "markdown",
   "metadata": {
    "colab_type": "text",
    "id": "8MuXXesWNlhu"
   },
   "source": [
    "The `env.step` method takes an action (in the case of the CartPole environment, the appropriate actions are 0 or 1, for moving left or right). It returns a tuple of four things:\n",
    "1. the new state of the environment\n",
    "2. a reward\n",
    "3. a boolean indicating whether the simulation has finished\n",
    "4. a dictionary of miscellaneous extra information\n",
    "\n",
    "\n",
    "Main environment functions are:\n",
    "\n",
    "\n",
    "* `env.reset()` - to reset environment and obtain the initial observations\n",
    "* `env.render()` - to visualize the environment \n",
    "* `env.step()` - to apply an action to the environment \n",
    "* `env.close()` - to close down the render frame"
   ]
  },
  {
   "cell_type": "markdown",
   "metadata": {},
   "source": [
    "### Action Space\n",
    "\n",
    "The action is a `ndarray` with shape `(1,)` which can take values `{0, 1}` indicating the direction\n",
    " of the fixed force the cart is pushed with.\n",
    "\n",
    "| Num | Action                 |\n",
    "|-----|------------------------|\n",
    "| 0   | Push cart to the left  |\n",
    "| 1   | Push cart to the right |"
   ]
  },
  {
   "cell_type": "code",
   "execution_count": 17,
   "metadata": {
    "colab": {},
    "colab_type": "code",
    "hideCode": false,
    "hidePrompt": false,
    "id": "TufVaMz_Nlhu"
   },
   "outputs": [
    {
     "name": "stdout",
     "output_type": "stream",
     "text": [
      "[-0.03821061 -0.16242553 -0.02519594  0.25504696] 1.0 False False {}\n"
     ]
    }
   ],
   "source": [
    "# Simulate taking an action in the environment. Appropriate actions for\n",
    "# the CartPole environment are 0 and 1 (for moving left and right).\n",
    "action = 0\n",
    "obs, reward, terminated, truncated, info = env.step(action) # updated version see https://gymnasium.farama.org/api/env/#gymnasium.Env.step\n",
    "print(obs, reward, terminated, truncated, info)"
   ]
  },
  {
   "cell_type": "markdown",
   "metadata": {
    "colab_type": "text",
    "id": "uBIoIuWYNlhw"
   },
   "source": [
    "A **rollout** is a simulation of a policy in an environment. It alternates between choosing actions based (using some policy) and taking those actions in the environment.\n",
    "\n",
    "The code below performs a rollout in a given environment. It takes **random actions** until the simulation has finished and returns the cumulative reward."
   ]
  },
  {
   "cell_type": "code",
   "execution_count": null,
   "metadata": {
    "colab": {},
    "colab_type": "code",
    "id": "Zp00mr88Nlhw"
   },
   "outputs": [],
   "source": [
    "def random_rollout(env):\n",
    "    state = env.reset()\n",
    "    \n",
    "    done = False\n",
    "    cumulative_reward = 0\n",
    "\n",
    "    # Keep looping as long as the simulation has not finished.\n",
    "    while not done:\n",
    "        # Choose a random action (either 0 or 1).\n",
    "        action = np.random.choice([0, 1])\n",
    "        \n",
    "        # Take the action in the environment.\n",
    "        state, reward, done, _ = env.step(action)\n",
    "        \n",
    "        # Update the cumulative reward.\n",
    "        cumulative_reward += reward\n",
    "    \n",
    "    # Return the cumulative reward.\n",
    "    return cumulative_reward\n",
    "    \n",
    "reward = random_rollout(env)\n",
    "print(reward)\n",
    "reward = random_rollout(env)\n",
    "print(reward)"
   ]
  },
  {
   "cell_type": "markdown",
   "metadata": {
    "colab_type": "text",
    "id": "i3FVvEJRNlhy"
   },
   "source": [
    "**EXERCISE:** Finish implementing the `rollout_policy` function below, which should take an environment *and* a policy. The *policy* is a function that takes in a *state* and returns an *action*. The main difference is that instead of choosing a **random action**, the action should be chosen **with the policy** (as a function of the state)."
   ]
  },
  {
   "cell_type": "code",
   "execution_count": null,
   "metadata": {
    "colab": {},
    "colab_type": "code",
    "id": "9PgmkROqNlhy"
   },
   "outputs": [],
   "source": [
    "def rollout_policy(env, policy):\n",
    "    state = env.reset()\n",
    "    \n",
    "    done = False\n",
    "    cumulative_reward = 0\n",
    "\n",
    "    # EXERCISE: Fill out this function by copying the 'random_rollout' function\n",
    "    # and then modifying it to choose the action using the policy.\n",
    "    raise NotImplementedError\n",
    "\n",
    "    # Return the cumulative reward.\n",
    "    return cumulative_reward\n",
    "\n",
    "def sample_policy1(state):\n",
    "    return 0 if state[0] < 0 else 1\n",
    "\n",
    "def sample_policy2(state):\n",
    "    return 1 if state[0] < 0 else 0\n",
    "\n",
    "reward1 = np.mean([rollout_policy(env, sample_policy1) for _ in range(100)])\n",
    "reward2 = np.mean([rollout_policy(env, sample_policy2) for _ in range(100)])\n",
    "\n",
    "print('The first sample policy got an average reward of {}.'.format(reward1))\n",
    "print('The second sample policy got an average reward of {}.'.format(reward2))\n",
    "\n",
    "assert 5 < reward1 < 15, ('Make sure that rollout_policy computes the action '\n",
    "                          'by applying the policy to the state.')\n",
    "assert 25 < reward2 < 35, ('Make sure that rollout_policy computes the action '\n",
    "                           'by applying the policy to the state.')"
   ]
  },
  {
   "cell_type": "markdown",
   "metadata": {
    "colab_type": "text",
    "id": "qXQ8hIB9Nlh0"
   },
   "source": [
    "# RLlib Exercise 1 - Proximal Policy Optimization\n",
    "\n",
    "**GOAL:** The goal of this exercise is to demonstrate how to use the proximal policy optimization (PPO) algorithm.\n",
    "\n",
    "To understand how to use **RLlib**, see the documentation at http://rllib.io.\n",
    "\n",
    "PPO is described in detail in https://arxiv.org/abs/1707.06347. It is a variant of Trust Region Policy Optimization (TRPO) described in https://arxiv.org/abs/1502.05477\n",
    "\n",
    "PPO works in two phases. In one phase, a large number of rollouts are performed (in parallel). The rollouts are then aggregated on the driver and a surrogate optimization objective is defined based on those rollouts. We then use SGD to find the policy that maximizes that objective with a penalty term for diverging too much from the current policy.\n",
    "\n",
    "![ppo](https://raw.githubusercontent.com/ucbrise/risecamp/risecamp2018/ray/tutorial/rllib_exercises/ppo.png)\n",
    "\n",
    "**NOTE:** The SGD optimization step is best performed in a data-parallel manner over multiple GPUs. This is exposed through the `num_gpus` field of the `config` dictionary (for this to work, you must be using a machine that has GPUs)."
   ]
  },
  {
   "cell_type": "code",
   "execution_count": null,
   "metadata": {
    "colab": {},
    "colab_type": "code",
    "id": "d_Luh2OENlh0"
   },
   "outputs": [],
   "source": [
    "# Be sure to install the latest version of RLlib.\n",
    "! pip install -U ray[rllib]"
   ]
  },
  {
   "cell_type": "code",
   "execution_count": null,
   "metadata": {
    "colab": {},
    "colab_type": "code",
    "id": "XwPnR2ibNlh2"
   },
   "outputs": [],
   "source": [
    "from __future__ import absolute_import\n",
    "from __future__ import division\n",
    "from __future__ import print_function\n",
    "\n",
    "import gym\n",
    "import ray\n",
    "from ray.rllib.agents.ppo import PPOTrainer, DEFAULT_CONFIG\n",
    "from ray.tune.logger import pretty_print"
   ]
  },
  {
   "cell_type": "code",
   "execution_count": null,
   "metadata": {
    "colab": {},
    "colab_type": "code",
    "id": "tQFzEX2BNlh3"
   },
   "outputs": [],
   "source": [
    "# Start up Ray. This must be done before we instantiate any RL agents.\n",
    "ray.init(num_cpus=3, ignore_reinit_error=True, log_to_driver=False)"
   ]
  },
  {
   "cell_type": "markdown",
   "metadata": {
    "colab_type": "text",
    "id": "f9yhpJZVNlh5"
   },
   "source": [
    "Instantiate a PPOTrainer object. We pass in a config object that specifies how the network and training procedure should be configured. Some of the parameters are the following.\n",
    "\n",
    "- `num_workers` is the number of actors that the agent will create. This determines the degree of parallelism that will be used.\n",
    "- `num_sgd_iter` is the number of epochs of SGD (passes through the data) that will be used to optimize the PPO surrogate objective at each iteration of PPO.\n",
    "- `sgd_minibatch_size` is the SGD batch size that will be used to optimize the PPO surrogate objective.\n",
    "- `model` contains a dictionary of parameters describing the neural net used to parameterize the policy. The `fcnet_hiddens` parameter is a list of the sizes of the hidden layers."
   ]
  },
  {
   "cell_type": "code",
   "execution_count": null,
   "metadata": {
    "colab": {},
    "colab_type": "code",
    "id": "Ok210MCfNlh5"
   },
   "outputs": [],
   "source": [
    "config = DEFAULT_CONFIG.copy()\n",
    "config['num_workers'] = 1\n",
    "config['num_sgd_iter'] = 30\n",
    "config['sgd_minibatch_size'] = 128\n",
    "config['model']['fcnet_hiddens'] = [100, 100]\n",
    "config['num_cpus_per_worker'] = 0  # This avoids running out of resources in the notebook environment when this cell is re-executed\n",
    "\n",
    "agent = PPOTrainer(config, 'CartPole-v0')"
   ]
  },
  {
   "cell_type": "markdown",
   "metadata": {
    "colab_type": "text",
    "id": "Ty1a6AWVNlh7"
   },
   "source": [
    "Train the policy on the `CartPole-v0` environment for 2 steps. The CartPole problem is described at https://gym.openai.com/envs/CartPole-v0.\n",
    "\n",
    "**EXERCISE:** Inspect how well the policy is doing by looking for the lines that say something like\n",
    "\n",
    "```\n",
    "episode_len_mean: 22.262569832402235\n",
    "episode_reward_mean: 22.262569832402235\n",
    "```\n",
    "\n",
    "This indicates how much reward the policy is receiving and how many time steps of the environment the policy ran. The maximum possible reward for this problem is 200. The reward and trajectory length are very close because the agent receives a reward of one for every time step that it survives (however, that is specific to this environment)."
   ]
  },
  {
   "cell_type": "code",
   "execution_count": null,
   "metadata": {
    "colab": {},
    "colab_type": "code",
    "id": "3o0wjdZ3Nlh7"
   },
   "outputs": [],
   "source": [
    "for i in range(2):\n",
    "    result = agent.train()\n",
    "    print(pretty_print(result))"
   ]
  },
  {
   "cell_type": "markdown",
   "metadata": {
    "colab_type": "text",
    "id": "FPdkWLrENlh9"
   },
   "source": [
    "**EXERCISE:** The current network and training configuration are too large and heavy-duty for a simple problem like CartPole. Modify the configuration to use a smaller network and to speed up the optimization of the surrogate objective (fewer SGD iterations and a larger batch size should help)."
   ]
  },
  {
   "cell_type": "code",
   "execution_count": null,
   "metadata": {
    "colab": {},
    "colab_type": "code",
    "id": "3lp6tqkNNlh9"
   },
   "outputs": [],
   "source": [
    "config = DEFAULT_CONFIG.copy()\n",
    "config['num_workers'] = 3\n",
    "config['num_sgd_iter'] = 30\n",
    "config['sgd_minibatch_size'] = 128\n",
    "config['model']['fcnet_hiddens'] = [100, 100]\n",
    "config['num_cpus_per_worker'] = 0\n",
    "\n",
    "agent = PPOTrainer(config, 'CartPole-v0')"
   ]
  },
  {
   "cell_type": "markdown",
   "metadata": {
    "colab_type": "text",
    "id": "64FmVP7kNlh_"
   },
   "source": [
    "**EXERCISE:** Train the agent and try to get a reward of 200. If it's training too slowly you may need to modify the config above to use fewer hidden units, a larger `sgd_minibatch_size`, a smaller `num_sgd_iter`, or a larger `num_workers`.\n",
    "\n",
    "This should take around 20 or 30 training iterations."
   ]
  },
  {
   "cell_type": "code",
   "execution_count": null,
   "metadata": {
    "colab": {},
    "colab_type": "code",
    "id": "XB7sdKUzNliA"
   },
   "outputs": [],
   "source": [
    "for i in range(2):\n",
    "    result = agent.train()\n",
    "    print(pretty_print(result))"
   ]
  },
  {
   "cell_type": "markdown",
   "metadata": {
    "colab_type": "text",
    "id": "PW6bN9CYNliB"
   },
   "source": [
    "Checkpoint the current model. The call to `agent.save()` returns the path to the checkpointed model and can be used later to restore the model."
   ]
  },
  {
   "cell_type": "code",
   "execution_count": null,
   "metadata": {
    "colab": {},
    "colab_type": "code",
    "id": "6uf808LMNliC"
   },
   "outputs": [],
   "source": [
    "checkpoint_path = agent.save()\n",
    "print(checkpoint_path)"
   ]
  },
  {
   "cell_type": "markdown",
   "metadata": {
    "colab_type": "text",
    "id": "05icI8bfNliD"
   },
   "source": [
    "Now let's use the trained policy to make predictions.\n",
    "\n",
    "**NOTE:** Here we are loading the trained policy in the same process, but in practice, this would often be done in a different process (probably on a different machine)."
   ]
  },
  {
   "cell_type": "code",
   "execution_count": null,
   "metadata": {
    "colab": {},
    "colab_type": "code",
    "id": "8Qq2_AYVNliE"
   },
   "outputs": [],
   "source": [
    "trained_config = config.copy()\n",
    "\n",
    "test_agent = PPOTrainer(trained_config, 'CartPole-v0')\n",
    "test_agent.restore(checkpoint_path)"
   ]
  },
  {
   "cell_type": "markdown",
   "metadata": {
    "colab_type": "text",
    "id": "c2gUUlqkNliG"
   },
   "source": [
    "Now use the trained policy to act in an environment. The key line is the call to `test_agent.compute_action(state)` which uses the trained policy to choose an action.\n",
    "\n",
    "**EXERCISE:** Verify that the reward received roughly matches up with the reward printed in the training logs."
   ]
  },
  {
   "cell_type": "code",
   "execution_count": null,
   "metadata": {
    "colab": {},
    "colab_type": "code",
    "id": "9asL5Z5lNliH"
   },
   "outputs": [],
   "source": [
    "env = gym.make('CartPole-v0')\n",
    "state = env.reset()\n",
    "done = False\n",
    "cumulative_reward = 0\n",
    "\n",
    "while not done:\n",
    "    action = test_agent.compute_action(state)\n",
    "    state, reward, done, _ = env.step(action)\n",
    "    cumulative_reward += reward\n",
    "\n",
    "print(cumulative_reward)"
   ]
  },
  {
   "cell_type": "markdown",
   "metadata": {
    "colab_type": "text",
    "id": "iB1ORu-yNliJ"
   },
   "source": [
    "# RLlib Exercise 2 - Custom Environments and Reward Shaping\n",
    "\n",
    "**GOAL:** The goal of this exercise is to demonstrate how to adapt your own problem to use RLlib.\n",
    "\n",
    "To understand how to use **RLlib**, see the documentation at http://rllib.io.\n",
    "\n",
    "RLlib is not only easy to use in simulated benchmarks but also in the real-world. Here, we will cover two important concepts: how to create your own Markov Decision Process abstraction, and how to shape the reward of your environment so make your agent more effective. "
   ]
  },
  {
   "cell_type": "code",
   "execution_count": 20,
   "metadata": {
    "colab": {},
    "colab_type": "code",
    "id": "Csnr34cnNliK"
   },
   "outputs": [
    {
     "ename": "ModuleNotFoundError",
     "evalue": "No module named 'ray'",
     "output_type": "error",
     "traceback": [
      "\u001b[0;31m---------------------------------------------------------------------------\u001b[0m",
      "\u001b[0;31mModuleNotFoundError\u001b[0m                       Traceback (most recent call last)",
      "Cell \u001b[0;32mIn[20], line 10\u001b[0m\n\u001b[1;32m      7\u001b[0m \u001b[39mimport\u001b[39;00m \u001b[39mnumpy\u001b[39;00m \u001b[39mas\u001b[39;00m \u001b[39mnp\u001b[39;00m\n\u001b[1;32m      8\u001b[0m \u001b[39mfrom\u001b[39;00m \u001b[39mtutorial\u001b[39;00m\u001b[39m.\u001b[39;00m\u001b[39mrllib_exercises\u001b[39;00m \u001b[39mimport\u001b[39;00m test_exercises\n\u001b[0;32m---> 10\u001b[0m \u001b[39mimport\u001b[39;00m \u001b[39mray\u001b[39;00m\n\u001b[1;32m     11\u001b[0m \u001b[39mfrom\u001b[39;00m \u001b[39mray\u001b[39;00m\u001b[39m.\u001b[39;00m\u001b[39mrllib\u001b[39;00m\u001b[39m.\u001b[39;00m\u001b[39magents\u001b[39;00m\u001b[39m.\u001b[39;00m\u001b[39mppo\u001b[39;00m \u001b[39mimport\u001b[39;00m PPOTrainer, DEFAULT_CONFIG\n\u001b[1;32m     13\u001b[0m ray\u001b[39m.\u001b[39minit(ignore_reinit_error\u001b[39m=\u001b[39m\u001b[39mTrue\u001b[39;00m, log_to_driver\u001b[39m=\u001b[39m\u001b[39mFalse\u001b[39;00m)\n",
      "\u001b[0;31mModuleNotFoundError\u001b[0m: No module named 'ray'"
     ]
    }
   ],
   "source": [
    "from __future__ import absolute_import\n",
    "from __future__ import division\n",
    "from __future__ import print_function\n",
    "\n",
    "import gym\n",
    "from gym import spaces\n",
    "import numpy as np\n",
    "from tutorial.rllib_exercises import test_exercises\n",
    "\n",
    "import ray\n",
    "from ray.rllib.agents.ppo import PPOTrainer, DEFAULT_CONFIG\n",
    "\n",
    "ray.init(ignore_reinit_error=True, log_to_driver=False)"
   ]
  },
  {
   "cell_type": "markdown",
   "metadata": {
    "colab_type": "text",
    "id": "Wg0Xb06MNliM"
   },
   "source": [
    "## 1. Different Spaces\n",
    "\n",
    "The first thing to do when formulating an RL problem is to specify the dimensions of your observation space and action space. Abstractions for these are provided in ``gym``. \n",
    "\n",
    "### **Exercise 1:** Match different actions to their corresponding space.\n",
    "\n",
    "The purpose of this exercise is to familiarize you with different Gym spaces. For example:\n",
    "\n",
    "    discrete = spaces.Discrete(10)\n",
    "    print(\"Random sample of this space: \", [discrete.sample() for i in range(4)])\n",
    "\n",
    "Use `help(spaces)` or `help([specific space])` (i.e., `help(spaces.Discrete)`) for more info."
   ]
  },
  {
   "cell_type": "code",
   "execution_count": null,
   "metadata": {
    "colab": {},
    "colab_type": "code",
    "id": "7RfODlKgNliM"
   },
   "outputs": [],
   "source": [
    "action_space_map = {\n",
    "    \"discrete_10\": spaces.Discrete(10),\n",
    "    \"box_1\": spaces.Box(0, 1, shape=(1,)),\n",
    "    \"box_3x1\": spaces.Box(-2, 2, shape=(3, 1)),\n",
    "    \"multi_discrete\": spaces.MultiDiscrete([ 5, 2, 2, 4 ])\n",
    "}\n",
    "\n",
    "action_space_jumble = {\n",
    "    \"discrete_10\": 1,\n",
    "    \"CHANGE_ME\": np.array([0, 0, 0, 2]),\n",
    "    \"CHANGE_ME\": np.array([[-1.2657754], [-1.6528835], [ 0.5982418]]),\n",
    "    \"CHANGE_ME\": np.array([0.89089584]),\n",
    "}\n",
    "\n",
    "\n",
    "for space_id, state in action_space_jumble.items():\n",
    "    assert action_space_map[space_id].contains(state), (\n",
    "        \"Looks like {} to {} is matched incorrectly.\".format(space_id, state))\n",
    "    \n",
    "print(\"Success!\")"
   ]
  },
  {
   "cell_type": "markdown",
   "metadata": {
    "colab_type": "text",
    "id": "l9rrsSmsNliO"
   },
   "source": [
    "## **Exercise 2**: Setting up a custom environment with rewards\n",
    "\n",
    "We'll setup an `n-Chain` environment, which presents moves along a linear chain of states, with two actions:\n",
    "\n",
    "     (0) forward, which moves along the chain but returns no reward\n",
    "     (1) backward, which returns to the beginning and has a small reward\n",
    "\n",
    "The end of the chain, however, presents a large reward, and by moving 'forward', at the end of the chain this large reward can be repeated.\n",
    "\n",
    "#### Step 1: Implement ``ChainEnv._setup_spaces``\n",
    "\n",
    "We'll use a `spaces.Discrete` action space and observation space. Implement `ChainEnv._setup_spaces` so that `self.action_space` and `self.obseration_space` are proper gym spaces.\n",
    "  \n",
    "1. Observation space is an integer in ``[0 to n-1]``.\n",
    "2. Action space is an integer in ``[0, 1]``.\n",
    "\n",
    "For example:\n",
    "\n",
    "```python\n",
    "    self.action_space = spaces.Discrete(2)\n",
    "    self.observation_space = ...\n",
    "```\n",
    "\n",
    "You should see a message indicating tests passing when done correctly!\n",
    "\n",
    "#### Step 2: Implement a reward function.\n",
    "\n",
    "When `env.step` is called, it returns a tuple of ``(state, reward, done, info)``. Right now, the reward is always 0. \n",
    "\n",
    "Implement it so that \n",
    "\n",
    "1. ``action == 1`` will return `self.small_reward`.\n",
    "2. ``action == 0`` will return 0 if `self.state < self.n - 1`.\n",
    "3. ``action == 0`` will return `self.large_reward` if `self.state == self.n - 1`.\n",
    "\n",
    "You should see a message indicating tests passing when done correctly. "
   ]
  },
  {
   "cell_type": "code",
   "execution_count": null,
   "metadata": {
    "colab": {},
    "colab_type": "code",
    "id": "SFpjKjqTNliO"
   },
   "outputs": [],
   "source": [
    "class ChainEnv(gym.Env):\n",
    "    \n",
    "    def __init__(self, env_config = None):\n",
    "        env_config = env_config or {}\n",
    "        self.n = env_config.get(\"n\", 20)\n",
    "        self.small_reward = env_config.get(\"small\", 2)  # payout for 'backwards' action\n",
    "        self.large_reward = env_config.get(\"large\", 10)  # payout at end of chain for 'forwards' action\n",
    "        self.state = 0  # Start at beginning of the chain\n",
    "        self._horizon = self.n\n",
    "        self._counter = 0  # For terminating the episode\n",
    "        self._setup_spaces()\n",
    "    \n",
    "    def _setup_spaces(self):\n",
    "        ##############\n",
    "        # TODO: Implement this so that it passes tests\n",
    "        self.action_space = None\n",
    "        self.observation_space = None\n",
    "        ##############\n",
    "\n",
    "    def step(self, action):\n",
    "        assert self.action_space.contains(action)\n",
    "        if action == 1:  # 'backwards': go back to the beginning, get small reward\n",
    "            ##############\n",
    "            # TODO 2: Implement this so that it passes tests\n",
    "            reward = -1\n",
    "            ##############\n",
    "            self.state = 0\n",
    "        elif self.state < self.n - 1:  # 'forwards': go up along the chain\n",
    "            ##############\n",
    "            # TODO 2: Implement this so that it passes tests\n",
    "            reward = -1\n",
    "            self.state += 1\n",
    "        else:  # 'forwards': stay at the end of the chain, collect large reward\n",
    "            ##############\n",
    "            # TODO 2: Implement this so that it passes tests\n",
    "            reward = -1\n",
    "            ##############\n",
    "        self._counter += 1\n",
    "        done = self._counter >= self._horizon\n",
    "        return self.state, reward, done, {}\n",
    "\n",
    "    def reset(self):\n",
    "        self.state = 0\n",
    "        self._counter = 0\n",
    "        return self.state\n",
    "    \n",
    "# Tests here:\n",
    "test_exercises.test_chain_env_spaces(ChainEnv)\n",
    "test_exercises.test_chain_env_reward(ChainEnv)"
   ]
  },
  {
   "cell_type": "markdown",
   "metadata": {
    "colab_type": "text",
    "id": "yqMJtzLNNliQ"
   },
   "source": [
    "### Now let's train a policy on the environment and evaluate this policy on our environment.\n",
    "\n",
    "You'll see that despite an extremely high reward, the policy has barely explored the state space."
   ]
  },
  {
   "cell_type": "code",
   "execution_count": null,
   "metadata": {
    "colab": {},
    "colab_type": "code",
    "id": "FyXbhXoANliQ"
   },
   "outputs": [],
   "source": [
    "trainer_config = DEFAULT_CONFIG.copy()\n",
    "trainer_config['num_workers'] = 1\n",
    "trainer_config[\"train_batch_size\"] = 400\n",
    "trainer_config[\"sgd_minibatch_size\"] = 64\n",
    "trainer_config[\"num_sgd_iter\"] = 10"
   ]
  },
  {
   "cell_type": "code",
   "execution_count": null,
   "metadata": {
    "colab": {},
    "colab_type": "code",
    "id": "uoNYqFPcNliS"
   },
   "outputs": [],
   "source": [
    "trainer = PPOTrainer(trainer_config, ChainEnv);\n",
    "for i in range(20):\n",
    "    print(\"Training iteration {}...\".format(i))\n",
    "    trainer.train()"
   ]
  },
  {
   "cell_type": "code",
   "execution_count": null,
   "metadata": {
    "colab": {},
    "colab_type": "code",
    "id": "nP6xXGNONliT"
   },
   "outputs": [],
   "source": [
    "env = ChainEnv({})\n",
    "state = env.reset()\n",
    "\n",
    "done = False\n",
    "max_state = -1\n",
    "cumulative_reward = 0\n",
    "\n",
    "while not done:\n",
    "    action = trainer.compute_action(state)\n",
    "    state, reward, done, results = env.step(action)\n",
    "    max_state = max(max_state, state)\n",
    "    cumulative_reward += reward\n",
    "\n",
    "print(\"Cumulative reward you've received is: {}. Congratulations!\".format(cumulative_reward))\n",
    "print(\"Max state you've visited is: {}. This is out of {} states.\".format(max_state, env.n))"
   ]
  },
  {
   "cell_type": "markdown",
   "metadata": {
    "colab_type": "text",
    "id": "nbdppkbENliV"
   },
   "source": [
    "## Exercise 3: Shaping the reward to encourage proper behavior.\n",
    "\n",
    "You'll see that despite an extremely high reward, the policy has barely explored the state space. This is often the situation - where the reward designed to encourage a particular solution is suboptimal, and the behavior created is unintended.\n",
    "\n",
    "#### Modify `ShapedChainEnv.step` to provide a reward that encourages the policy to traverse the chain (not just stick to 0). Do not change the behavior of the environment (the action -> state behavior should be the same).\n",
    "\n",
    "You can change the reward to be whatever you wish."
   ]
  },
  {
   "cell_type": "code",
   "execution_count": null,
   "metadata": {
    "colab": {},
    "colab_type": "code",
    "id": "PfyPqX1ZNliV"
   },
   "outputs": [],
   "source": [
    "class ShapedChainEnv(ChainEnv):\n",
    "    def step(self, action):\n",
    "        assert self.action_space.contains(action)\n",
    "        if action == 1:  # 'backwards': go back to the beginning\n",
    "            reward = -1\n",
    "            self.state = 0\n",
    "        elif self.state < self.n - 1:  # 'forwards': go up along the chain\n",
    "            reward = -1\n",
    "            self.state += 1\n",
    "        else:  # 'forwards': stay at the end of the chain\n",
    "            reward = -1\n",
    "        self._counter += 1\n",
    "        done = self._counter >= self._horizon\n",
    "        return self.state, reward, done, {}\n",
    "    \n",
    "test_exercises.test_chain_env_behavior(ShapedChainEnv)"
   ]
  },
  {
   "cell_type": "markdown",
   "metadata": {
    "colab_type": "text",
    "id": "ty6H4MffNliW"
   },
   "source": [
    "### Evaluate `ShapedChainEnv` by running the cell below.\n",
    "\n",
    "This trains PPO on the new env and counts the number of states seen."
   ]
  },
  {
   "cell_type": "code",
   "execution_count": null,
   "metadata": {
    "colab": {},
    "colab_type": "code",
    "id": "8U6GkAO6NliX"
   },
   "outputs": [],
   "source": [
    "trainer = PPOTrainer(trainer_config, ShapedChainEnv);\n",
    "for i in range(20):\n",
    "    print(\"Training iteration {}...\".format(i))\n",
    "    trainer.train()\n",
    "\n",
    "env = ShapedChainEnv({})\n",
    "\n",
    "max_states = []\n",
    "\n",
    "for i in range(5):\n",
    "    state = env.reset()\n",
    "    done = False\n",
    "    max_state = -1\n",
    "    cumulative_reward = 0\n",
    "    while not done:\n",
    "        action = trainer.compute_action(state)\n",
    "        state, reward, done, results = env.step(action)\n",
    "        max_state = max(max_state, state)\n",
    "        cumulative_reward += reward\n",
    "    max_states += [max_state]\n",
    "\n",
    "print(\"Cumulative reward you've received is: {}!\".format(cumulative_reward))\n",
    "print(\"Max state you've visited is: {}. This is out of {} states.\".format(np.mean(max_state), env.n))\n",
    "assert (env.n - np.mean(max_state)) / env.n < 0.2, \"This policy did not traverse many states.\""
   ]
  },
  {
   "cell_type": "code",
   "execution_count": null,
   "metadata": {
    "colab": {},
    "colab_type": "code",
    "id": "Sj5ynpINNliZ"
   },
   "outputs": [],
   "source": []
  }
 ],
 "metadata": {
  "colab": {
   "name": "RLlib Tutorial",
   "provenance": []
  },
  "hide_code_all_hidden": false,
  "kernelspec": {
   "display_name": "Python 3",
   "language": "python",
   "name": "python3"
  },
  "language_info": {
   "codemirror_mode": {
    "name": "ipython",
    "version": 3
   },
   "file_extension": ".py",
   "mimetype": "text/x-python",
   "name": "python",
   "nbconvert_exporter": "python",
   "pygments_lexer": "ipython3",
   "version": "3.10.12"
  }
 },
 "nbformat": 4,
 "nbformat_minor": 1
}
